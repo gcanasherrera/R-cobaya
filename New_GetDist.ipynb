{
 "cells": [
  {
   "cell_type": "code",
   "execution_count": 3,
   "metadata": {},
   "outputs": [],
   "source": [
    "import numpy as np\n",
    "import matplotlib.pyplot as plt\n",
    "import seaborn as sns\n",
    "import pandas as pd\n",
    "from cobaya.run import run\n",
    "from collections import OrderedDict as odict"
   ]
  },
  {
   "cell_type": "code",
   "execution_count": 4,
   "metadata": {},
   "outputs": [
    {
     "name": "stdout",
     "output_type": "stream",
     "text": [
      "[output] Products to be written into folder 'chains', with prefix 'gaussian'\n",
      "[mcmc] Covariance matrix not present. We will start learning the covariance of the proposal earlier: R-1 = 30 (was 2).\n",
      "[prior] *WARNING* Reference pdf not defined or improper for some parameters. Using prior's sigma instead for them.\n",
      "[mcmc] Initial covariance matrix.\n",
      "[mcmc] Initial point:\n",
      "[prior] Reference values or pdf's for some parameters were not provided. Sampling from the prior instead for those parameters.\n",
      "[mcmc] \n",
      "weight  minuslogpost         a    b  derived_a  derived_b  minuslogprior  minuslogprior__0  chi2  chi2__gaussian\n",
      "   1.0      2.091721  0.335502  0.0   0.428496  -0.161956            NaN               NaN   NaN             NaN\n",
      "[mcmc] Dumped checkpoint info and current covmat.\n",
      "[mcmc] Sampling! (NB: nothing will be printed until 40 burn-in samples have been obtained)\n",
      "[mcmc] Finished burn-in phase: discarded 40 accepted steps.\n",
      "[mcmc] Checkpoint: 80 samples accepted.\n",
      "[mcmc] Ready to check convergence learn a new proposal covmat\n",
      "Removed no burn in\n",
      "Removed no burn in\n",
      "Removed no burn in\n",
      "Removed no burn in\n",
      "[mcmc] Convergence of means: R-1 = 0.708244 after 80 samples\n",
      "[mcmc] Updated covariance matrix of proposal pdf.\n",
      "[mcmc] Dumped checkpoint info and current covmat.\n",
      "[mcmc] Checkpoint: 160 samples accepted.\n",
      "[mcmc] Ready to check convergence learn a new proposal covmat\n",
      "Removed no burn in\n",
      "Removed no burn in\n",
      "Removed no burn in\n",
      "Removed no burn in\n",
      "[mcmc] Convergence of means: R-1 = 0.456024 after 160 samples\n",
      "[mcmc] Updated covariance matrix of proposal pdf.\n",
      "[mcmc] Dumped checkpoint info and current covmat.\n",
      "[mcmc] Checkpoint: 240 samples accepted.\n",
      "[mcmc] Ready to check convergence learn a new proposal covmat\n",
      "Removed no burn in\n",
      "Removed no burn in\n",
      "Removed no burn in\n",
      "Removed no burn in\n",
      "[mcmc] Convergence of means: R-1 = 0.220708 after 240 samples\n",
      "[mcmc] Updated covariance matrix of proposal pdf.\n",
      "[mcmc] Dumped checkpoint info and current covmat.\n",
      "[mcmc] Checkpoint: 320 samples accepted.\n",
      "[mcmc] Ready to check convergence learn a new proposal covmat\n",
      "Removed no burn in\n",
      "Removed no burn in\n",
      "Removed no burn in\n",
      "Removed no burn in\n",
      "[mcmc] Convergence of means: R-1 = 0.188082 after 320 samples\n",
      "[mcmc] Updated covariance matrix of proposal pdf.\n",
      "[mcmc] Dumped checkpoint info and current covmat.\n",
      "[mcmc] Checkpoint: 400 samples accepted.\n",
      "[mcmc] Ready to check convergence learn a new proposal covmat\n",
      "Removed no burn in\n",
      "Removed no burn in\n",
      "Removed no burn in\n",
      "Removed no burn in\n",
      "[mcmc] Convergence of means: R-1 = 0.021026 after 400 samples\n",
      "[mcmc] Updated covariance matrix of proposal pdf.\n",
      "[mcmc] Dumped checkpoint info and current covmat.\n",
      "[mcmc] Checkpoint: 480 samples accepted.\n",
      "[mcmc] Ready to check convergence learn a new proposal covmat\n",
      "Removed no burn in\n",
      "Removed no burn in\n",
      "Removed no burn in\n",
      "Removed no burn in\n",
      "[mcmc] Convergence of means: R-1 = 0.003594 after 480 samples\n",
      "[mcmc] Updated covariance matrix of proposal pdf.\n",
      "[mcmc] Dumped checkpoint info and current covmat.\n",
      "[mcmc] Checkpoint: 560 samples accepted.\n",
      "[mcmc] Ready to check convergence learn a new proposal covmat\n",
      "Removed no burn in\n",
      "Removed no burn in\n",
      "Removed no burn in\n",
      "Removed no burn in\n",
      "[mcmc] Convergence of means: R-1 = 0.010400 after 560 samples\n",
      "[mcmc] Updated covariance matrix of proposal pdf.\n",
      "[mcmc] Dumped checkpoint info and current covmat.\n",
      "[mcmc] Checkpoint: 640 samples accepted.\n",
      "[mcmc] Ready to check convergence learn a new proposal covmat\n",
      "Removed no burn in\n",
      "Removed no burn in\n",
      "Removed no burn in\n",
      "Removed no burn in\n",
      "[mcmc] Convergence of means: R-1 = 0.007241 after 640 samples\n",
      "[mcmc] Updated covariance matrix of proposal pdf.\n",
      "[mcmc] Dumped checkpoint info and current covmat.\n",
      "[mcmc] Checkpoint: 720 samples accepted.\n",
      "[mcmc] Ready to check convergence learn a new proposal covmat\n",
      "Removed no burn in\n",
      "Removed no burn in\n",
      "Removed no burn in\n",
      "Removed no burn in\n",
      "[mcmc] Convergence of means: R-1 = 0.009578 after 720 samples\n",
      "[mcmc] Convergence of bounds: R-1 = 0.125456 after 720 samples\n",
      "[mcmc] The run has converged!\n",
      "[mcmc] Dumped checkpoint info and current covmat.\n",
      "[mcmc] Sampling complete after 720 accepted steps.\n"
     ]
    }
   ],
   "source": [
    "##Run COBAYA:\n",
    "info = {\"output\": \"chains/gaussian\",\n",
    "    \"likelihood\": {\n",
    "        \"gaussian\": {\n",
    "            \"mean\": [0.2, 0],\n",
    "            \"cov\": [[0.1, 0.05],\n",
    "                    [0.05,0.2]]}},\n",
    "    \"params\": odict([\n",
    "        (\"a\", {\n",
    "            \"prior\": {\"min\": -0.5, \"max\": 3},\n",
    "            \"latex\": r\"\\alpha\"}),\n",
    "        (\"b\", {\n",
    "            \"prior\": {\"dist\": \"norm\", \"loc\": 0, \"scale\": 1},\n",
    "            \"ref\": 0,\n",
    "            \"proposal\": 0.5,\n",
    "            \"latex\": r\"\\beta\"}),\n",
    "        (\"derived_a\", {\n",
    "            \"latex\": r\"\\alpha^\\prime\"}),\n",
    "        (\"derived_b\", {\n",
    "            \"latex\": r\"\\beta^\\prime\"})]),\n",
    "    \"sampler\": {\n",
    "        \"mcmc\": None}}\n",
    "\n",
    "updated_info, products = run(info)"
   ]
  },
  {
   "cell_type": "code",
   "execution_count": 9,
   "metadata": {},
   "outputs": [
    {
     "name": "stdout",
     "output_type": "stream",
     "text": [
      "Removed no burn in\n",
      "[root] *WARNING* outlier fraction 0.118055555556 \n",
      "Mean:\n",
      "[0.21021425 0.01590846]\n",
      "Covariace matrix:\n",
      "[[0.09244237 0.03049955]\n",
      " [0.03049955 0.16064619]]\n"
     ]
    },
    {
     "data": {
      "image/png": "[encoded data removed]",
      "text/plain": [
       "<matplotlib.figure.Figure at 0x11804b4d0>"
      ]
     },
     "metadata": {},
     "output_type": "display_data"
    }
   ],
   "source": [
    "# Export the results to GetDist\n",
    "from getdist.mcsamples import loadCobayaSamples\n",
    "#print updated_info\n",
    "#print products[\"sample\"]\n",
    "gd_sample = loadCobayaSamples(updated_info, products[\"sample\"])\n",
    "# Analyze and plot\n",
    "import getdist.plots as gdplt\n",
    "print(\"Mean:\")\n",
    "print(gd_sample.getMeans()[:2])\n",
    "print(\"Covariace matrix:\")\n",
    "print(gd_sample.getCovMat().matrix[:2,:2])\n",
    "# %matplotlib inline  # uncomment if running from the Jupyter notebook\n",
    "import getdist.plots as gdplot\n",
    "gdplot = gdplt.getSubplotPlotter()\n",
    "gdplot.triangle_plot(gd_sample, [\"a\", \"b\"], filled=True)"
   ]
  },
  {
   "cell_type": "code",
   "execution_count": 74,
   "metadata": {
    "scrolled": true
   },
   "outputs": [],
   "source": [
    "# Let's repeat the results using seaborn:\n",
    "\n",
    "#First, let read the chains and transform them into panda data frame\n",
    "def read_chains(name_file):\n",
    "    data_mcmc = np.genfromtxt(name_file, names=True)\n",
    "    s = pd.DataFrame(data=data_mcmc, columns=data_mcmc.dtype.names)\n",
    "    return s\n",
    "\n",
    "chains_df = read_chains(\"chains/gaussian_1.txt\")"
   ]
  },
  {
   "cell_type": "code",
   "execution_count": 76,
   "metadata": {},
   "outputs": [
    {
     "data": {
      "image/png": "[encoded data removed]",
      "text/plain": [
       "<matplotlib.figure.Figure at 0x1c1da13090>"
      ]
     },
     "metadata": {},
     "output_type": "display_data"
    }
   ],
   "source": [
    "g = sns.jointplot(chains_df[\"a\"], chains_df[\"b\"], kind=\"kde\")"
   ]
  },
  {
   "cell_type": "code",
   "execution_count": null,
   "metadata": {},
   "outputs": [],
   "source": []
  },
  {
   "cell_type": "code",
   "execution_count": null,
   "metadata": {},
   "outputs": [],
   "source": []
  },
  {
   "cell_type": "code",
   "execution_count": null,
   "metadata": {},
   "outputs": [],
   "source": []
  },
  {
   "cell_type": "code",
   "execution_count": null,
   "metadata": {},
   "outputs": [],
   "source": []
  },
  {
   "cell_type": "code",
   "execution_count": null,
   "metadata": {},
   "outputs": [],
   "source": []
  },
  {
   "cell_type": "code",
   "execution_count": null,
   "metadata": {},
   "outputs": [],
   "source": []
  },
  {
   "cell_type": "code",
   "execution_count": null,
   "metadata": {},
   "outputs": [],
   "source": []
  },
  {
   "cell_type": "code",
   "execution_count": null,
   "metadata": {},
   "outputs": [],
   "source": []
  }
 ],
 "metadata": {
  "kernelspec": {
   "display_name": "Python 2",
   "language": "python",
   "name": "python2"
  },
  "language_info": {
   "codemirror_mode": {
    "name": "ipython",
    "version": 2
   },
   "file_extension": ".py",
   "mimetype": "text/x-python",
   "name": "python",
   "nbconvert_exporter": "python",
   "pygments_lexer": "ipython2",
   "version": "2.7.14"
  }
 },
 "nbformat": 4,
 "nbformat_minor": 2
}
